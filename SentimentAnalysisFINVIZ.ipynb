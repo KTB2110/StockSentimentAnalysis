{
  "nbformat": 4,
  "nbformat_minor": 0,
  "metadata": {
    "colab": {
      "name": "SentimentAnalysis.ipynb",
      "provenance": [],
      "collapsed_sections": [],
      "authorship_tag": "ABX9TyMjjTkr7GhqCwtfGT2HakbQ",
      "include_colab_link": true
    },
    "kernelspec": {
      "name": "python3",
      "display_name": "Python 3"
    },
    "language_info": {
      "name": "python"
    }
  },
  "cells": [
    {
      "cell_type": "markdown",
      "metadata": {
        "id": "view-in-github",
        "colab_type": "text"
      },
      "source": [
        "<a href=\"https://colab.research.google.com/github/KTB2110/PortfolioProjects/blob/Projects/SentimentAnalysisFINVIZ.ipynb\" target=\"_parent\"><img src=\"https://colab.research.google.com/assets/colab-badge.svg\" alt=\"Open In Colab\"/></a>"
      ]
    },
    {
      "cell_type": "markdown",
      "source": [
        "# **Welcome to Sentiment Analysis of Stocks powered by FINVIZ**\n",
        "\n",
        "**This program enables you to obtain information on the sentiment of your desired stock listing/Company over the last few days based on recent articles published pertaining to the Company.**"
      ],
      "metadata": {
        "id": "eiAGAC_5aDLk"
      }
    },
    {
      "cell_type": "markdown",
      "source": [
        "### Please run the code chunks below!"
      ],
      "metadata": {
        "id": "KcUfrRgSaC8R"
      }
    },
    {
      "cell_type": "code",
      "execution_count": 98,
      "metadata": {
        "id": "_3-CKuIcedm-",
        "colab": {
          "base_uri": "https://localhost:8080/"
        },
        "outputId": "8f2c8332-8db1-4726-da7a-717577b92f31"
      },
      "outputs": [
        {
          "output_type": "stream",
          "name": "stdout",
          "text": [
            "[nltk_data] Downloading package vader_lexicon to /root/nltk_data...\n",
            "[nltk_data]   Package vader_lexicon is already up-to-date!\n"
          ]
        }
      ],
      "source": [
        "import nltk\n",
        "nltk.download('vader_lexicon')\n",
        "from nltk.sentiment.vader import SentimentIntensityAnalyzer\n",
        "\n",
        "from plotnine import *\n",
        "import pandas as pd\n",
        "from urllib.request import urlopen, Request\n",
        "from bs4 import BeautifulSoup\n",
        "import matplotlib.pyplot as plt"
      ]
    },
    {
      "cell_type": "code",
      "source": [
        "df = pd.read_csv(\"stocks.csv\")\n",
        "df = df[['Symbol', 'Name']]\n",
        "\n",
        "df['Symbol'] = df['Symbol'].str.upper()\n",
        "df['Name'] = df['Name'].str.upper()\n",
        "# stock_dict = df.set_index('Symbol').T.to_dict()\n",
        "stock_dict = pd.Series(df.Symbol.values,index=df.Name).to_dict()\n",
        "reverse_dict = pd.Series(df.Name.values,index=df.Symbol).to_dict()"
      ],
      "metadata": {
        "id": "nED9pmdwQocM"
      },
      "execution_count": 99,
      "outputs": []
    },
    {
      "cell_type": "markdown",
      "source": [
        "### Run this code block below and provide input!\n"
      ],
      "metadata": {
        "id": "Ap8I9IPDQ02I"
      }
    },
    {
      "cell_type": "code",
      "source": [
        "tickers = []\n",
        "search_results = []\n",
        "while True:\n",
        "  print(\"Welcome to Stock Sentiment Analysis Powered by FINVIZ\")\n",
        "  print(\"Please enter the stocks you want to analyze one-by-one when prompted.\\nType 'Default' if you want to see how we work with a sample list of stock listings!\\nType 'Done' when you are done entering your desired stock listings!\\n\\n\")\n",
        "\n",
        "  search = input(\"\\nEnter desired stock name or company name:\\n\")\n",
        "  search = search.upper()\n",
        "  \n",
        "  while((search != 'DONE') and (search != 'DEFAULT')):\n",
        "    \n",
        "    score = 0\n",
        "    for value in stock_dict.values():\n",
        "      if search == value:\n",
        "        tickers.append(value)\n",
        "        score = 1\n",
        "        break\n",
        "\n",
        "    for key in stock_dict.keys():\n",
        "      if search in key:\n",
        "        tickers.append(stock_dict[key])\n",
        "        score = 1\n",
        "        break\n",
        "\n",
        "    if (score == 0):\n",
        "      print(\"There seems to be an error in what you have entered.\\nPlease check for correct Stock Name or Company Name and Try Again!\")\n",
        "\n",
        "    search = input(\"\\nEnter desired stock name or company name:\\n\")\n",
        "    search = search.upper()\n",
        "  \n",
        "  if (search == 'DEFAULT'):\n",
        "    tickers = ['AMZN', \"GOOG\", \"FB\"]\n",
        "    print(\"Thank you. \\n\\nAnalyzing...\")\n",
        "    break\n",
        "  elif (search == 'DONE'):\n",
        "    print(\"\\nThank you. \\n\\nAnalyzing...\")\n",
        "    break\n"
      ],
      "metadata": {
        "colab": {
          "base_uri": "https://localhost:8080/"
        },
        "id": "XDMqf_ULOF29",
        "outputId": "264b196b-0a4f-415c-fe24-3834bbfc6173"
      },
      "execution_count": 126,
      "outputs": [
        {
          "output_type": "stream",
          "name": "stdout",
          "text": [
            "Welcome to Stock Sentiment Analysis Powered by FINVIZ\n",
            "Please enter the stocks you want to analyze one-by-one when prompted.\n",
            "Type 'Default' if you want to see how we work with a sample list of stock listings!\n",
            "Type 'Done' when you are done entering your desired stock listings!\n",
            "\n",
            "\n",
            "\n",
            "Enter desired stock name or company name:\n",
            "Amazon\n",
            "\n",
            "Enter desired stock name or company name:\n",
            "Microsoft\n",
            "\n",
            "Enter desired stock name or company name:\n",
            "GOOG\n",
            "\n",
            "Enter desired stock name or company name:\n",
            "Apple\n",
            "\n",
            "Enter desired stock name or company name:\n",
            "Aplde\n",
            "There seems to be an error in what you have entered.\n",
            "Please check for correct Stock Name or Company Name and Try Again!\n",
            "\n",
            "Enter desired stock name or company name:\n",
            "Netflix\n",
            "\n",
            "Enter desired stock name or company name:\n",
            "done\n",
            "\n",
            "Thank you. \n",
            "\n",
            "Analyzing...\n"
          ]
        }
      ]
    },
    {
      "cell_type": "markdown",
      "source": [
        "## RUN ALL THE REMAINING CODE BLOCKS"
      ],
      "metadata": {
        "id": "eHWsklmdZfpk"
      }
    },
    {
      "cell_type": "code",
      "source": [
        "print(tickers)\n",
        "finviz_url = 'https://finviz.com/quote.ashx?t='\n",
        "# tickers = ['AMZN', \"GOOG\", \"FB\"]\n",
        "\n",
        "news_tables = {}"
      ],
      "metadata": {
        "id": "6YXLGgnyefg3",
        "colab": {
          "base_uri": "https://localhost:8080/"
        },
        "outputId": "b5afdc1f-b161-4282-ff58-7016fa7a4780"
      },
      "execution_count": 127,
      "outputs": [
        {
          "output_type": "stream",
          "name": "stdout",
          "text": [
            "['AMZN', 'MSFT', 'GOOG', 'AAPL', 'NFLX']\n"
          ]
        }
      ]
    },
    {
      "cell_type": "code",
      "source": [
        "for ticker in tickers:\n",
        "  url = finviz_url + ticker\n",
        "\n",
        "  req = Request(url = url, headers = {'user-agent' : 'my-app'})\n",
        "  response = urlopen(req)\n",
        "  \n",
        "  html = BeautifulSoup(response, 'html')\n",
        "  news_table = html.find(id = 'news-table')\n",
        "  news_tables[ticker] = news_table"
      ],
      "metadata": {
        "id": "9Oc2BJAp_enR"
      },
      "execution_count": 128,
      "outputs": []
    },
    {
      "cell_type": "code",
      "source": [
        "parsed_data = []"
      ],
      "metadata": {
        "id": "VEv_LVxXB8t2"
      },
      "execution_count": 129,
      "outputs": []
    },
    {
      "cell_type": "code",
      "source": [
        "for ticker, news_table in news_tables.items():\n",
        "  for row in news_table.findAll('tr'):\n",
        "    title = row.a.text\n",
        "    date_data = row.td.text.split(' ')\n",
        "\n",
        "    if len(date_data) == 1:\n",
        "      time = date_data[0]\n",
        "    else :\n",
        "      time = date_data[1]\n",
        "      date = date_data[0]\n",
        "\n",
        "    parsed_data.append([ticker, date, time, title])"
      ],
      "metadata": {
        "id": "nChdwd3GBtdj"
      },
      "execution_count": 130,
      "outputs": []
    },
    {
      "cell_type": "code",
      "source": [
        "df = pd.DataFrame(parsed_data, columns = ['Ticker', 'Date', \"Time\", \"Title\"])\n",
        "\n",
        "vader = SentimentIntensityAnalyzer()\n",
        "df['compound'] = df['Title'].apply(lambda title: vader.polarity_scores(title)['compound'])"
      ],
      "metadata": {
        "id": "_StFPWdhDMLP"
      },
      "execution_count": 131,
      "outputs": []
    },
    {
      "cell_type": "code",
      "source": [
        "df['Date'] = pd.to_datetime(df.Date).dt.date"
      ],
      "metadata": {
        "id": "e-0CEOsBGWxD"
      },
      "execution_count": 132,
      "outputs": []
    },
    {
      "cell_type": "code",
      "source": [
        "plt.figure(figsize=(20,3))\n",
        "mean_df = df.groupby(['Ticker', 'Date']).mean()\n",
        "mean_df = mean_df.unstack()\n",
        "mean_df = mean_df.xs('compound', axis = 'columns').transpose()\n",
        "mean_df.plot(kind = 'bar')\n",
        "plt.xticks(rotation = 90)\n",
        "plt.show()"
      ],
      "metadata": {
        "colab": {
          "base_uri": "https://localhost:8080/",
          "height": 345
        },
        "id": "j-YPIXYEHZx2",
        "outputId": "8e612cce-fc5b-4ca7-9de3-c25108d3a602"
      },
      "execution_count": 133,
      "outputs": [
        {
          "output_type": "display_data",
          "data": {
            "text/plain": [
              "<Figure size 1440x216 with 0 Axes>"
            ]
          },
          "metadata": {}
        },
        {
          "output_type": "display_data",
          "data": {
            "image/png": "[encoded data removed]",
            "text/plain": [
              "<Figure size 432x288 with 1 Axes>"
            ]
          },
          "metadata": {
            "needs_background": "light"
          }
        }
      ]
    }
  ]
}